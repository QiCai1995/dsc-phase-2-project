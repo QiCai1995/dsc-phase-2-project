{
 "cells": [
  {
   "attachments": {},
   "cell_type": "markdown",
   "metadata": {},
   "source": [
    "# Runtime and Return Percentage Analysis"
   ]
  },
  {
   "cell_type": "code",
   "execution_count": 3,
   "metadata": {},
   "outputs": [],
   "source": [
    "import pandas as pd\n",
    "import numpy as np\n",
    "import matplotlib.pyplot as plt\n",
    "%matplotlib inline\n",
    "import seaborn as sns\n",
    "from scipy import stats"
   ]
  },
  {
   "cell_type": "code",
   "execution_count": 4,
   "metadata": {},
   "outputs": [
    {
     "data": {
      "text/html": [
       "<div>\n",
       "<style scoped>\n",
       "    .dataframe tbody tr th:only-of-type {\n",
       "        vertical-align: middle;\n",
       "    }\n",
       "\n",
       "    .dataframe tbody tr th {\n",
       "        vertical-align: top;\n",
       "    }\n",
       "\n",
       "    .dataframe thead th {\n",
       "        text-align: right;\n",
       "    }\n",
       "</style>\n",
       "<table border=\"1\" class=\"dataframe\">\n",
       "  <thead>\n",
       "    <tr style=\"text-align: right;\">\n",
       "      <th></th>\n",
       "      <th>primary_title</th>\n",
       "      <th>averagerating</th>\n",
       "      <th>numvotes</th>\n",
       "      <th>runtime_minutes</th>\n",
       "      <th>primary_name</th>\n",
       "      <th>genres</th>\n",
       "      <th>count</th>\n",
       "      <th>production_budget</th>\n",
       "      <th>domestic_gross</th>\n",
       "      <th>worldwide_gross</th>\n",
       "      <th>...</th>\n",
       "      <th>Family</th>\n",
       "      <th>Fantasy</th>\n",
       "      <th>History</th>\n",
       "      <th>Horror</th>\n",
       "      <th>Music</th>\n",
       "      <th>Mystery</th>\n",
       "      <th>Romance</th>\n",
       "      <th>Sci-Fi</th>\n",
       "      <th>Sport</th>\n",
       "      <th>Thriller</th>\n",
       "    </tr>\n",
       "  </thead>\n",
       "  <tbody>\n",
       "    <tr>\n",
       "      <th>0</th>\n",
       "      <td>#Horror</td>\n",
       "      <td>3.0</td>\n",
       "      <td>3092.0</td>\n",
       "      <td>101.0</td>\n",
       "      <td>Tara Subkoff</td>\n",
       "      <td>Crime,Drama,Horror</td>\n",
       "      <td>1</td>\n",
       "      <td>1500000.0</td>\n",
       "      <td>0.0</td>\n",
       "      <td>0.0</td>\n",
       "      <td>...</td>\n",
       "      <td>0</td>\n",
       "      <td>0</td>\n",
       "      <td>0</td>\n",
       "      <td>1</td>\n",
       "      <td>0</td>\n",
       "      <td>0</td>\n",
       "      <td>0</td>\n",
       "      <td>0</td>\n",
       "      <td>0</td>\n",
       "      <td>0</td>\n",
       "    </tr>\n",
       "    <tr>\n",
       "      <th>1</th>\n",
       "      <td>10 Cloverfield Lane</td>\n",
       "      <td>7.2</td>\n",
       "      <td>260383.0</td>\n",
       "      <td>103.0</td>\n",
       "      <td>Dan Trachtenberg</td>\n",
       "      <td>Drama,Horror,Mystery</td>\n",
       "      <td>1</td>\n",
       "      <td>5000000.0</td>\n",
       "      <td>72082999.0</td>\n",
       "      <td>108286422.0</td>\n",
       "      <td>...</td>\n",
       "      <td>0</td>\n",
       "      <td>0</td>\n",
       "      <td>0</td>\n",
       "      <td>1</td>\n",
       "      <td>0</td>\n",
       "      <td>1</td>\n",
       "      <td>0</td>\n",
       "      <td>0</td>\n",
       "      <td>0</td>\n",
       "      <td>0</td>\n",
       "    </tr>\n",
       "    <tr>\n",
       "      <th>2</th>\n",
       "      <td>10 Days in a Madhouse</td>\n",
       "      <td>6.7</td>\n",
       "      <td>1114.0</td>\n",
       "      <td>111.0</td>\n",
       "      <td>Timothy Hines</td>\n",
       "      <td>Drama</td>\n",
       "      <td>1</td>\n",
       "      <td>12000000.0</td>\n",
       "      <td>14616.0</td>\n",
       "      <td>14616.0</td>\n",
       "      <td>...</td>\n",
       "      <td>0</td>\n",
       "      <td>0</td>\n",
       "      <td>0</td>\n",
       "      <td>0</td>\n",
       "      <td>0</td>\n",
       "      <td>0</td>\n",
       "      <td>0</td>\n",
       "      <td>0</td>\n",
       "      <td>0</td>\n",
       "      <td>0</td>\n",
       "    </tr>\n",
       "    <tr>\n",
       "      <th>3</th>\n",
       "      <td>12 Strong</td>\n",
       "      <td>6.6</td>\n",
       "      <td>50155.0</td>\n",
       "      <td>130.0</td>\n",
       "      <td>Nicolai Fuglsig</td>\n",
       "      <td>Action,Drama,History</td>\n",
       "      <td>1</td>\n",
       "      <td>35000000.0</td>\n",
       "      <td>45819713.0</td>\n",
       "      <td>71118378.0</td>\n",
       "      <td>...</td>\n",
       "      <td>0</td>\n",
       "      <td>0</td>\n",
       "      <td>1</td>\n",
       "      <td>0</td>\n",
       "      <td>0</td>\n",
       "      <td>0</td>\n",
       "      <td>0</td>\n",
       "      <td>0</td>\n",
       "      <td>0</td>\n",
       "      <td>0</td>\n",
       "    </tr>\n",
       "    <tr>\n",
       "      <th>4</th>\n",
       "      <td>12 Years a Slave</td>\n",
       "      <td>8.1</td>\n",
       "      <td>577301.0</td>\n",
       "      <td>134.0</td>\n",
       "      <td>Steve McQueen</td>\n",
       "      <td>Biography,Drama,History</td>\n",
       "      <td>1</td>\n",
       "      <td>20000000.0</td>\n",
       "      <td>56671993.0</td>\n",
       "      <td>181025343.0</td>\n",
       "      <td>...</td>\n",
       "      <td>0</td>\n",
       "      <td>0</td>\n",
       "      <td>1</td>\n",
       "      <td>0</td>\n",
       "      <td>0</td>\n",
       "      <td>0</td>\n",
       "      <td>0</td>\n",
       "      <td>0</td>\n",
       "      <td>0</td>\n",
       "      <td>0</td>\n",
       "    </tr>\n",
       "  </tbody>\n",
       "</table>\n",
       "<p>5 rows × 30 columns</p>\n",
       "</div>"
      ],
      "text/plain": [
       "           primary_title  averagerating  numvotes  runtime_minutes  \\\n",
       "0                #Horror            3.0    3092.0            101.0   \n",
       "1    10 Cloverfield Lane            7.2  260383.0            103.0   \n",
       "2  10 Days in a Madhouse            6.7    1114.0            111.0   \n",
       "3              12 Strong            6.6   50155.0            130.0   \n",
       "4       12 Years a Slave            8.1  577301.0            134.0   \n",
       "\n",
       "       primary_name                   genres  count  production_budget  \\\n",
       "0      Tara Subkoff       Crime,Drama,Horror      1          1500000.0   \n",
       "1  Dan Trachtenberg     Drama,Horror,Mystery      1          5000000.0   \n",
       "2     Timothy Hines                    Drama      1         12000000.0   \n",
       "3   Nicolai Fuglsig     Action,Drama,History      1         35000000.0   \n",
       "4     Steve McQueen  Biography,Drama,History      1         20000000.0   \n",
       "\n",
       "   domestic_gross  worldwide_gross  ...  Family  Fantasy  History  Horror  \\\n",
       "0             0.0              0.0  ...       0        0        0       1   \n",
       "1      72082999.0      108286422.0  ...       0        0        0       1   \n",
       "2         14616.0          14616.0  ...       0        0        0       0   \n",
       "3      45819713.0       71118378.0  ...       0        0        1       0   \n",
       "4      56671993.0      181025343.0  ...       0        0        1       0   \n",
       "\n",
       "   Music  Mystery  Romance  Sci-Fi  Sport  Thriller  \n",
       "0      0        0        0       0      0         0  \n",
       "1      0        1        0       0      0         0  \n",
       "2      0        0        0       0      0         0  \n",
       "3      0        0        0       0      0         0  \n",
       "4      0        0        0       0      0         0  \n",
       "\n",
       "[5 rows x 30 columns]"
      ]
     },
     "execution_count": 4,
     "metadata": {},
     "output_type": "execute_result"
    }
   ],
   "source": [
    "df3 = pd.read_csv(\"joined_data.csv\")\n",
    "df3.head()"
   ]
  },
  {
   "cell_type": "code",
   "execution_count": 38,
   "metadata": {},
   "outputs": [
    {
     "name": "stdout",
     "output_type": "stream",
     "text": [
      "<class 'pandas.core.frame.DataFrame'>\n",
      "RangeIndex: 2147 entries, 0 to 2146\n",
      "Data columns (total 30 columns):\n",
      " #   Column             Non-Null Count  Dtype  \n",
      "---  ------             --------------  -----  \n",
      " 0   primary_title      2147 non-null   object \n",
      " 1   averagerating      2147 non-null   float64\n",
      " 2   numvotes           2147 non-null   float64\n",
      " 3   runtime_minutes    2147 non-null   float64\n",
      " 4   primary_name       2147 non-null   object \n",
      " 5   genres             2147 non-null   object \n",
      " 6   count              2147 non-null   int64  \n",
      " 7   production_budget  2147 non-null   float64\n",
      " 8   domestic_gross     2147 non-null   float64\n",
      " 9   worldwide_gross    2147 non-null   float64\n",
      " 10  return_perc        2147 non-null   float64\n",
      " 11  return_perc_v2     2147 non-null   float64\n",
      " 12  Action             2147 non-null   int64  \n",
      " 13  Adventure          2147 non-null   int64  \n",
      " 14  Animation          2147 non-null   int64  \n",
      " 15  Biography          2147 non-null   int64  \n",
      " 16  Comedy             2147 non-null   int64  \n",
      " 17  Crime              2147 non-null   int64  \n",
      " 18  Documentary        2147 non-null   int64  \n",
      " 19  Drama              2147 non-null   int64  \n",
      " 20  Family             2147 non-null   int64  \n",
      " 21  Fantasy            2147 non-null   int64  \n",
      " 22  History            2147 non-null   int64  \n",
      " 23  Horror             2147 non-null   int64  \n",
      " 24  Music              2147 non-null   int64  \n",
      " 25  Mystery            2147 non-null   int64  \n",
      " 26  Romance            2147 non-null   int64  \n",
      " 27  Sci-Fi             2147 non-null   int64  \n",
      " 28  Sport              2147 non-null   int64  \n",
      " 29  Thriller           2147 non-null   int64  \n",
      "dtypes: float64(8), int64(19), object(3)\n",
      "memory usage: 503.3+ KB\n"
     ]
    }
   ],
   "source": [
    "df3.info()"
   ]
  },
  {
   "cell_type": "code",
   "execution_count": 5,
   "metadata": {},
   "outputs": [
    {
     "data": {
      "text/plain": [
       "(array([2.134e+03, 8.000e+00, 2.000e+00, 0.000e+00, 0.000e+00, 1.000e+00,\n",
       "        0.000e+00, 1.000e+00, 0.000e+00, 1.000e+00]),\n",
       " array([ -1.      ,  40.656474,  82.312948, 123.969422, 165.625896,\n",
       "        207.28237 , 248.938844, 290.595318, 332.251792, 373.908266,\n",
       "        415.56474 ]),\n",
       " <BarContainer object of 10 artists>)"
      ]
     },
     "execution_count": 5,
     "metadata": {},
     "output_type": "execute_result"
    },
    {
     "data": {
      "image/png": "[encoded data removed]",
      "text/plain": [
       "<Figure size 432x288 with 1 Axes>"
      ]
     },
     "metadata": {
      "needs_background": "light"
     },
     "output_type": "display_data"
    }
   ],
   "source": [
    "plt.hist(df3['return_perc_v2'])"
   ]
  },
  {
   "cell_type": "code",
   "execution_count": 6,
   "metadata": {},
   "outputs": [
    {
     "data": {
      "text/plain": [
       "count    2147.000000\n",
       "mean        2.641324\n",
       "std        13.568265\n",
       "min        -1.000000\n",
       "25%        -0.641474\n",
       "50%         0.709365\n",
       "75%         2.700253\n",
       "max       415.564740\n",
       "Name: return_perc_v2, dtype: float64"
      ]
     },
     "execution_count": 6,
     "metadata": {},
     "output_type": "execute_result"
    }
   ],
   "source": [
    "df3['return_perc_v2'].describe()"
   ]
  },
  {
   "cell_type": "code",
   "execution_count": 7,
   "metadata": {},
   "outputs": [
    {
     "data": {
      "text/html": [
       "<div>\n",
       "<style scoped>\n",
       "    .dataframe tbody tr th:only-of-type {\n",
       "        vertical-align: middle;\n",
       "    }\n",
       "\n",
       "    .dataframe tbody tr th {\n",
       "        vertical-align: top;\n",
       "    }\n",
       "\n",
       "    .dataframe thead th {\n",
       "        text-align: right;\n",
       "    }\n",
       "</style>\n",
       "<table border=\"1\" class=\"dataframe\">\n",
       "  <thead>\n",
       "    <tr style=\"text-align: right;\">\n",
       "      <th></th>\n",
       "      <th>primary_title</th>\n",
       "      <th>averagerating</th>\n",
       "      <th>numvotes</th>\n",
       "      <th>runtime_minutes</th>\n",
       "      <th>primary_name</th>\n",
       "      <th>genres</th>\n",
       "      <th>count</th>\n",
       "      <th>production_budget</th>\n",
       "      <th>domestic_gross</th>\n",
       "      <th>worldwide_gross</th>\n",
       "      <th>...</th>\n",
       "      <th>Family</th>\n",
       "      <th>Fantasy</th>\n",
       "      <th>History</th>\n",
       "      <th>Horror</th>\n",
       "      <th>Music</th>\n",
       "      <th>Mystery</th>\n",
       "      <th>Romance</th>\n",
       "      <th>Sci-Fi</th>\n",
       "      <th>Sport</th>\n",
       "      <th>Thriller</th>\n",
       "    </tr>\n",
       "  </thead>\n",
       "  <tbody>\n",
       "    <tr>\n",
       "      <th>1</th>\n",
       "      <td>10 Cloverfield Lane</td>\n",
       "      <td>7.2</td>\n",
       "      <td>260383.0</td>\n",
       "      <td>103.0</td>\n",
       "      <td>Dan Trachtenberg</td>\n",
       "      <td>Drama,Horror,Mystery</td>\n",
       "      <td>1</td>\n",
       "      <td>5000000.0</td>\n",
       "      <td>72082999.0</td>\n",
       "      <td>1.082864e+08</td>\n",
       "      <td>...</td>\n",
       "      <td>0</td>\n",
       "      <td>0</td>\n",
       "      <td>0</td>\n",
       "      <td>1</td>\n",
       "      <td>0</td>\n",
       "      <td>1</td>\n",
       "      <td>0</td>\n",
       "      <td>0</td>\n",
       "      <td>0</td>\n",
       "      <td>0</td>\n",
       "    </tr>\n",
       "    <tr>\n",
       "      <th>3</th>\n",
       "      <td>12 Strong</td>\n",
       "      <td>6.6</td>\n",
       "      <td>50155.0</td>\n",
       "      <td>130.0</td>\n",
       "      <td>Nicolai Fuglsig</td>\n",
       "      <td>Action,Drama,History</td>\n",
       "      <td>1</td>\n",
       "      <td>35000000.0</td>\n",
       "      <td>45819713.0</td>\n",
       "      <td>7.111838e+07</td>\n",
       "      <td>...</td>\n",
       "      <td>0</td>\n",
       "      <td>0</td>\n",
       "      <td>1</td>\n",
       "      <td>0</td>\n",
       "      <td>0</td>\n",
       "      <td>0</td>\n",
       "      <td>0</td>\n",
       "      <td>0</td>\n",
       "      <td>0</td>\n",
       "      <td>0</td>\n",
       "    </tr>\n",
       "    <tr>\n",
       "      <th>4</th>\n",
       "      <td>12 Years a Slave</td>\n",
       "      <td>8.1</td>\n",
       "      <td>577301.0</td>\n",
       "      <td>134.0</td>\n",
       "      <td>Steve McQueen</td>\n",
       "      <td>Biography,Drama,History</td>\n",
       "      <td>1</td>\n",
       "      <td>20000000.0</td>\n",
       "      <td>56671993.0</td>\n",
       "      <td>1.810253e+08</td>\n",
       "      <td>...</td>\n",
       "      <td>0</td>\n",
       "      <td>0</td>\n",
       "      <td>1</td>\n",
       "      <td>0</td>\n",
       "      <td>0</td>\n",
       "      <td>0</td>\n",
       "      <td>0</td>\n",
       "      <td>0</td>\n",
       "      <td>0</td>\n",
       "      <td>0</td>\n",
       "    </tr>\n",
       "    <tr>\n",
       "      <th>5</th>\n",
       "      <td>127 Hours</td>\n",
       "      <td>7.6</td>\n",
       "      <td>323949.0</td>\n",
       "      <td>94.0</td>\n",
       "      <td>Danny Boyle</td>\n",
       "      <td>Adventure,Biography,Drama</td>\n",
       "      <td>1</td>\n",
       "      <td>18000000.0</td>\n",
       "      <td>18335230.0</td>\n",
       "      <td>6.021717e+07</td>\n",
       "      <td>...</td>\n",
       "      <td>0</td>\n",
       "      <td>0</td>\n",
       "      <td>0</td>\n",
       "      <td>0</td>\n",
       "      <td>0</td>\n",
       "      <td>0</td>\n",
       "      <td>0</td>\n",
       "      <td>0</td>\n",
       "      <td>0</td>\n",
       "      <td>0</td>\n",
       "    </tr>\n",
       "    <tr>\n",
       "      <th>8</th>\n",
       "      <td>2 Guns</td>\n",
       "      <td>6.7</td>\n",
       "      <td>182025.0</td>\n",
       "      <td>109.0</td>\n",
       "      <td>Baltasar Kormákur</td>\n",
       "      <td>Action,Comedy,Crime</td>\n",
       "      <td>1</td>\n",
       "      <td>61000000.0</td>\n",
       "      <td>75612460.0</td>\n",
       "      <td>1.324930e+08</td>\n",
       "      <td>...</td>\n",
       "      <td>0</td>\n",
       "      <td>0</td>\n",
       "      <td>0</td>\n",
       "      <td>0</td>\n",
       "      <td>0</td>\n",
       "      <td>0</td>\n",
       "      <td>0</td>\n",
       "      <td>0</td>\n",
       "      <td>0</td>\n",
       "      <td>0</td>\n",
       "    </tr>\n",
       "    <tr>\n",
       "      <th>...</th>\n",
       "      <td>...</td>\n",
       "      <td>...</td>\n",
       "      <td>...</td>\n",
       "      <td>...</td>\n",
       "      <td>...</td>\n",
       "      <td>...</td>\n",
       "      <td>...</td>\n",
       "      <td>...</td>\n",
       "      <td>...</td>\n",
       "      <td>...</td>\n",
       "      <td>...</td>\n",
       "      <td>...</td>\n",
       "      <td>...</td>\n",
       "      <td>...</td>\n",
       "      <td>...</td>\n",
       "      <td>...</td>\n",
       "      <td>...</td>\n",
       "      <td>...</td>\n",
       "      <td>...</td>\n",
       "      <td>...</td>\n",
       "      <td>...</td>\n",
       "    </tr>\n",
       "    <tr>\n",
       "      <th>2137</th>\n",
       "      <td>Zambezia</td>\n",
       "      <td>5.8</td>\n",
       "      <td>6010.0</td>\n",
       "      <td>83.0</td>\n",
       "      <td>Wayne Thornley</td>\n",
       "      <td>Adventure,Animation,Comedy</td>\n",
       "      <td>1</td>\n",
       "      <td>20000000.0</td>\n",
       "      <td>0.0</td>\n",
       "      <td>3.445434e+07</td>\n",
       "      <td>...</td>\n",
       "      <td>0</td>\n",
       "      <td>0</td>\n",
       "      <td>0</td>\n",
       "      <td>0</td>\n",
       "      <td>0</td>\n",
       "      <td>0</td>\n",
       "      <td>0</td>\n",
       "      <td>0</td>\n",
       "      <td>0</td>\n",
       "      <td>0</td>\n",
       "    </tr>\n",
       "    <tr>\n",
       "      <th>2138</th>\n",
       "      <td>Zero Dark Thirty</td>\n",
       "      <td>7.4</td>\n",
       "      <td>251072.0</td>\n",
       "      <td>157.0</td>\n",
       "      <td>Kathryn Bigelow</td>\n",
       "      <td>Drama,Thriller</td>\n",
       "      <td>1</td>\n",
       "      <td>52500000.0</td>\n",
       "      <td>95720716.0</td>\n",
       "      <td>1.346124e+08</td>\n",
       "      <td>...</td>\n",
       "      <td>0</td>\n",
       "      <td>0</td>\n",
       "      <td>0</td>\n",
       "      <td>0</td>\n",
       "      <td>0</td>\n",
       "      <td>0</td>\n",
       "      <td>0</td>\n",
       "      <td>0</td>\n",
       "      <td>0</td>\n",
       "      <td>1</td>\n",
       "    </tr>\n",
       "    <tr>\n",
       "      <th>2141</th>\n",
       "      <td>Zookeeper</td>\n",
       "      <td>5.2</td>\n",
       "      <td>52396.0</td>\n",
       "      <td>102.0</td>\n",
       "      <td>Frank Coraci</td>\n",
       "      <td>Comedy,Family,Romance</td>\n",
       "      <td>1</td>\n",
       "      <td>80000000.0</td>\n",
       "      <td>80360866.0</td>\n",
       "      <td>1.708055e+08</td>\n",
       "      <td>...</td>\n",
       "      <td>1</td>\n",
       "      <td>0</td>\n",
       "      <td>0</td>\n",
       "      <td>0</td>\n",
       "      <td>0</td>\n",
       "      <td>0</td>\n",
       "      <td>1</td>\n",
       "      <td>0</td>\n",
       "      <td>0</td>\n",
       "      <td>0</td>\n",
       "    </tr>\n",
       "    <tr>\n",
       "      <th>2144</th>\n",
       "      <td>Zootopia</td>\n",
       "      <td>8.0</td>\n",
       "      <td>1150338.0</td>\n",
       "      <td>108.0</td>\n",
       "      <td>Byron Howard, Rich Moore, Jared Bush</td>\n",
       "      <td>Adventure,Animation,Comedy</td>\n",
       "      <td>3</td>\n",
       "      <td>150000000.0</td>\n",
       "      <td>341268248.0</td>\n",
       "      <td>1.019430e+09</td>\n",
       "      <td>...</td>\n",
       "      <td>0</td>\n",
       "      <td>0</td>\n",
       "      <td>0</td>\n",
       "      <td>0</td>\n",
       "      <td>0</td>\n",
       "      <td>0</td>\n",
       "      <td>0</td>\n",
       "      <td>0</td>\n",
       "      <td>0</td>\n",
       "      <td>0</td>\n",
       "    </tr>\n",
       "    <tr>\n",
       "      <th>2146</th>\n",
       "      <td>xXx: Return of Xander Cage</td>\n",
       "      <td>5.2</td>\n",
       "      <td>77976.0</td>\n",
       "      <td>107.0</td>\n",
       "      <td>D.J. Caruso</td>\n",
       "      <td>Action,Adventure,Thriller</td>\n",
       "      <td>1</td>\n",
       "      <td>85000000.0</td>\n",
       "      <td>44898413.0</td>\n",
       "      <td>3.450334e+08</td>\n",
       "      <td>...</td>\n",
       "      <td>0</td>\n",
       "      <td>0</td>\n",
       "      <td>0</td>\n",
       "      <td>0</td>\n",
       "      <td>0</td>\n",
       "      <td>0</td>\n",
       "      <td>0</td>\n",
       "      <td>0</td>\n",
       "      <td>0</td>\n",
       "      <td>1</td>\n",
       "    </tr>\n",
       "  </tbody>\n",
       "</table>\n",
       "<p>1074 rows × 30 columns</p>\n",
       "</div>"
      ],
      "text/plain": [
       "                   primary_title  averagerating   numvotes  runtime_minutes  \\\n",
       "1            10 Cloverfield Lane            7.2   260383.0            103.0   \n",
       "3                      12 Strong            6.6    50155.0            130.0   \n",
       "4               12 Years a Slave            8.1   577301.0            134.0   \n",
       "5                      127 Hours            7.6   323949.0             94.0   \n",
       "8                         2 Guns            6.7   182025.0            109.0   \n",
       "...                          ...            ...        ...              ...   \n",
       "2137                    Zambezia            5.8     6010.0             83.0   \n",
       "2138            Zero Dark Thirty            7.4   251072.0            157.0   \n",
       "2141                   Zookeeper            5.2    52396.0            102.0   \n",
       "2144                    Zootopia            8.0  1150338.0            108.0   \n",
       "2146  xXx: Return of Xander Cage            5.2    77976.0            107.0   \n",
       "\n",
       "                              primary_name                      genres  count  \\\n",
       "1                         Dan Trachtenberg        Drama,Horror,Mystery      1   \n",
       "3                          Nicolai Fuglsig        Action,Drama,History      1   \n",
       "4                            Steve McQueen     Biography,Drama,History      1   \n",
       "5                              Danny Boyle   Adventure,Biography,Drama      1   \n",
       "8                        Baltasar Kormákur         Action,Comedy,Crime      1   \n",
       "...                                    ...                         ...    ...   \n",
       "2137                        Wayne Thornley  Adventure,Animation,Comedy      1   \n",
       "2138                       Kathryn Bigelow              Drama,Thriller      1   \n",
       "2141                          Frank Coraci       Comedy,Family,Romance      1   \n",
       "2144  Byron Howard, Rich Moore, Jared Bush  Adventure,Animation,Comedy      3   \n",
       "2146                           D.J. Caruso   Action,Adventure,Thriller      1   \n",
       "\n",
       "      production_budget  domestic_gross  worldwide_gross  ...  Family  \\\n",
       "1             5000000.0      72082999.0     1.082864e+08  ...       0   \n",
       "3            35000000.0      45819713.0     7.111838e+07  ...       0   \n",
       "4            20000000.0      56671993.0     1.810253e+08  ...       0   \n",
       "5            18000000.0      18335230.0     6.021717e+07  ...       0   \n",
       "8            61000000.0      75612460.0     1.324930e+08  ...       0   \n",
       "...                 ...             ...              ...  ...     ...   \n",
       "2137         20000000.0             0.0     3.445434e+07  ...       0   \n",
       "2138         52500000.0      95720716.0     1.346124e+08  ...       0   \n",
       "2141         80000000.0      80360866.0     1.708055e+08  ...       1   \n",
       "2144        150000000.0     341268248.0     1.019430e+09  ...       0   \n",
       "2146         85000000.0      44898413.0     3.450334e+08  ...       0   \n",
       "\n",
       "      Fantasy  History  Horror  Music  Mystery  Romance  Sci-Fi  Sport  \\\n",
       "1           0        0       1      0        1        0       0      0   \n",
       "3           0        1       0      0        0        0       0      0   \n",
       "4           0        1       0      0        0        0       0      0   \n",
       "5           0        0       0      0        0        0       0      0   \n",
       "8           0        0       0      0        0        0       0      0   \n",
       "...       ...      ...     ...    ...      ...      ...     ...    ...   \n",
       "2137        0        0       0      0        0        0       0      0   \n",
       "2138        0        0       0      0        0        0       0      0   \n",
       "2141        0        0       0      0        0        1       0      0   \n",
       "2144        0        0       0      0        0        0       0      0   \n",
       "2146        0        0       0      0        0        0       0      0   \n",
       "\n",
       "      Thriller  \n",
       "1            0  \n",
       "3            0  \n",
       "4            0  \n",
       "5            0  \n",
       "8            0  \n",
       "...        ...  \n",
       "2137         0  \n",
       "2138         1  \n",
       "2141         0  \n",
       "2144         0  \n",
       "2146         1  \n",
       "\n",
       "[1074 rows x 30 columns]"
      ]
     },
     "execution_count": 7,
     "metadata": {},
     "output_type": "execute_result"
    }
   ],
   "source": [
    "df_above_median_return = df3 [df3['return_perc_v2'] >= df3['return_perc_v2'].median()]\n",
    "df_above_median_return"
   ]
  },
  {
   "cell_type": "code",
   "execution_count": 8,
   "metadata": {},
   "outputs": [
    {
     "data": {
      "text/plain": [
       "array([[1.        , 0.01908782],\n",
       "       [0.01908782, 1.        ]])"
      ]
     },
     "execution_count": 8,
     "metadata": {},
     "output_type": "execute_result"
    }
   ],
   "source": [
    "np.corrcoef(df3['return_perc_v2'],df3['averagerating'])"
   ]
  },
  {
   "attachments": {},
   "cell_type": "markdown",
   "metadata": {},
   "source": [
    "Again, no correlation between return percentages and ratings :(())"
   ]
  },
  {
   "cell_type": "code",
   "execution_count": 9,
   "metadata": {},
   "outputs": [
    {
     "data": {
      "text/plain": [
       "array([[ 1.        , -0.06135732],\n",
       "       [-0.06135732,  1.        ]])"
      ]
     },
     "execution_count": 9,
     "metadata": {},
     "output_type": "execute_result"
    }
   ],
   "source": [
    "np.corrcoef(df_above_median_return['return_perc_v2'],df_above_median_return['averagerating'])"
   ]
  },
  {
   "attachments": {},
   "cell_type": "markdown",
   "metadata": {},
   "source": [
    "# Taking another approach, to see how return percentage correlates to genres:"
   ]
  },
  {
   "attachments": {},
   "cell_type": "markdown",
   "metadata": {},
   "source": []
  },
  {
   "cell_type": "code",
   "execution_count": 10,
   "metadata": {},
   "outputs": [
    {
     "data": {
      "text/plain": [
       "genres\n",
       "Biography,Documentary                                                              77.896018\n",
       "Crime,Drama,Family, Documentary,Sport                                              62.119120\n",
       "Horror,Thriller, Drama,Fantasy, Comedy,Romance,Sport, Drama, Action,Drama,Sport    54.792961\n",
       "Action,Comedy,Drama                                                                45.883807\n",
       "Horror,Mystery,Thriller                                                            30.213677\n",
       "Drama,Mystery,Thriller, Drama,Horror,Mystery                                       28.761302\n",
       "Horror,Thriller, Action,Horror,Thriller                                            27.571429\n",
       "Horror,Thriller, Horror,Romance,Thriller, Comedy,Romance, Drama,Romance            26.179241\n",
       "Horror, Drama,Fantasy,Mystery                                                      22.527273\n",
       "Horror,Mystery,Thriller, Comedy,Drama,Romance                                      18.735563\n",
       "Crime,Fantasy,Thriller                                                             18.534452\n",
       "Comedy,Drama, Drama,Romance                                                        13.913600\n",
       "Action,Crime,Drama, Drama                                                          13.093083\n",
       "Adventure,Horror                                                                   11.931420\n",
       "Action,Adventure,Comedy, Action,Drama,Thriller, Horror, Comedy,Drama,Family        11.848163\n",
       "Drama, Horror,Mystery,Thriller, Comedy                                             11.710515\n",
       "Biography,Drama, Action,Drama,Romance                                              11.464227\n",
       "Drama,Sci-Fi,Thriller, Crime,Horror,Mystery, Drama,Mystery,Thriller                11.265175\n",
       "Comedy,Romance, Documentary                                                        10.884197\n",
       "Action,Sci-Fi,Thriller, Documentary                                                10.437694\n",
       "Name: return_perc_v2, dtype: float64"
      ]
     },
     "execution_count": 10,
     "metadata": {},
     "output_type": "execute_result"
    }
   ],
   "source": [
    "# groupby genres\n",
    "df3.groupby('genres')['return_perc_v2'].mean().sort_values(ascending=False).head(20)"
   ]
  },
  {
   "cell_type": "code",
   "execution_count": 11,
   "metadata": {},
   "outputs": [
    {
     "data": {
      "text/html": [
       "<div>\n",
       "<style scoped>\n",
       "    .dataframe tbody tr th:only-of-type {\n",
       "        vertical-align: middle;\n",
       "    }\n",
       "\n",
       "    .dataframe tbody tr th {\n",
       "        vertical-align: top;\n",
       "    }\n",
       "\n",
       "    .dataframe thead th {\n",
       "        text-align: right;\n",
       "    }\n",
       "</style>\n",
       "<table border=\"1\" class=\"dataframe\">\n",
       "  <thead>\n",
       "    <tr style=\"text-align: right;\">\n",
       "      <th></th>\n",
       "      <th>primary_title</th>\n",
       "      <th>averagerating</th>\n",
       "      <th>numvotes</th>\n",
       "      <th>runtime_minutes</th>\n",
       "      <th>primary_name</th>\n",
       "      <th>genres</th>\n",
       "      <th>count</th>\n",
       "      <th>production_budget</th>\n",
       "      <th>domestic_gross</th>\n",
       "      <th>worldwide_gross</th>\n",
       "      <th>...</th>\n",
       "      <th>Family</th>\n",
       "      <th>Fantasy</th>\n",
       "      <th>History</th>\n",
       "      <th>Horror</th>\n",
       "      <th>Music</th>\n",
       "      <th>Mystery</th>\n",
       "      <th>Romance</th>\n",
       "      <th>Sci-Fi</th>\n",
       "      <th>Sport</th>\n",
       "      <th>Thriller</th>\n",
       "    </tr>\n",
       "  </thead>\n",
       "  <tbody>\n",
       "    <tr>\n",
       "      <th>0</th>\n",
       "      <td>#Horror</td>\n",
       "      <td>3.0</td>\n",
       "      <td>3092.0</td>\n",
       "      <td>101.0</td>\n",
       "      <td>Tara Subkoff</td>\n",
       "      <td>Crime,Drama,Horror</td>\n",
       "      <td>1</td>\n",
       "      <td>1500000.0</td>\n",
       "      <td>0.0</td>\n",
       "      <td>0.0</td>\n",
       "      <td>...</td>\n",
       "      <td>0</td>\n",
       "      <td>0</td>\n",
       "      <td>0</td>\n",
       "      <td>1</td>\n",
       "      <td>0</td>\n",
       "      <td>0</td>\n",
       "      <td>0</td>\n",
       "      <td>0</td>\n",
       "      <td>0</td>\n",
       "      <td>0</td>\n",
       "    </tr>\n",
       "    <tr>\n",
       "      <th>1</th>\n",
       "      <td>10 Cloverfield Lane</td>\n",
       "      <td>7.2</td>\n",
       "      <td>260383.0</td>\n",
       "      <td>103.0</td>\n",
       "      <td>Dan Trachtenberg</td>\n",
       "      <td>Drama,Horror,Mystery</td>\n",
       "      <td>1</td>\n",
       "      <td>5000000.0</td>\n",
       "      <td>72082999.0</td>\n",
       "      <td>108286422.0</td>\n",
       "      <td>...</td>\n",
       "      <td>0</td>\n",
       "      <td>0</td>\n",
       "      <td>0</td>\n",
       "      <td>1</td>\n",
       "      <td>0</td>\n",
       "      <td>1</td>\n",
       "      <td>0</td>\n",
       "      <td>0</td>\n",
       "      <td>0</td>\n",
       "      <td>0</td>\n",
       "    </tr>\n",
       "    <tr>\n",
       "      <th>2</th>\n",
       "      <td>10 Days in a Madhouse</td>\n",
       "      <td>6.7</td>\n",
       "      <td>1114.0</td>\n",
       "      <td>111.0</td>\n",
       "      <td>Timothy Hines</td>\n",
       "      <td>Drama</td>\n",
       "      <td>1</td>\n",
       "      <td>12000000.0</td>\n",
       "      <td>14616.0</td>\n",
       "      <td>14616.0</td>\n",
       "      <td>...</td>\n",
       "      <td>0</td>\n",
       "      <td>0</td>\n",
       "      <td>0</td>\n",
       "      <td>0</td>\n",
       "      <td>0</td>\n",
       "      <td>0</td>\n",
       "      <td>0</td>\n",
       "      <td>0</td>\n",
       "      <td>0</td>\n",
       "      <td>0</td>\n",
       "    </tr>\n",
       "    <tr>\n",
       "      <th>3</th>\n",
       "      <td>12 Strong</td>\n",
       "      <td>6.6</td>\n",
       "      <td>50155.0</td>\n",
       "      <td>130.0</td>\n",
       "      <td>Nicolai Fuglsig</td>\n",
       "      <td>Action,Drama,History</td>\n",
       "      <td>1</td>\n",
       "      <td>35000000.0</td>\n",
       "      <td>45819713.0</td>\n",
       "      <td>71118378.0</td>\n",
       "      <td>...</td>\n",
       "      <td>0</td>\n",
       "      <td>0</td>\n",
       "      <td>1</td>\n",
       "      <td>0</td>\n",
       "      <td>0</td>\n",
       "      <td>0</td>\n",
       "      <td>0</td>\n",
       "      <td>0</td>\n",
       "      <td>0</td>\n",
       "      <td>0</td>\n",
       "    </tr>\n",
       "    <tr>\n",
       "      <th>4</th>\n",
       "      <td>12 Years a Slave</td>\n",
       "      <td>8.1</td>\n",
       "      <td>577301.0</td>\n",
       "      <td>134.0</td>\n",
       "      <td>Steve McQueen</td>\n",
       "      <td>Biography,Drama,History</td>\n",
       "      <td>1</td>\n",
       "      <td>20000000.0</td>\n",
       "      <td>56671993.0</td>\n",
       "      <td>181025343.0</td>\n",
       "      <td>...</td>\n",
       "      <td>0</td>\n",
       "      <td>0</td>\n",
       "      <td>1</td>\n",
       "      <td>0</td>\n",
       "      <td>0</td>\n",
       "      <td>0</td>\n",
       "      <td>0</td>\n",
       "      <td>0</td>\n",
       "      <td>0</td>\n",
       "      <td>0</td>\n",
       "    </tr>\n",
       "  </tbody>\n",
       "</table>\n",
       "<p>5 rows × 30 columns</p>\n",
       "</div>"
      ],
      "text/plain": [
       "           primary_title  averagerating  numvotes  runtime_minutes  \\\n",
       "0                #Horror            3.0    3092.0            101.0   \n",
       "1    10 Cloverfield Lane            7.2  260383.0            103.0   \n",
       "2  10 Days in a Madhouse            6.7    1114.0            111.0   \n",
       "3              12 Strong            6.6   50155.0            130.0   \n",
       "4       12 Years a Slave            8.1  577301.0            134.0   \n",
       "\n",
       "       primary_name                   genres  count  production_budget  \\\n",
       "0      Tara Subkoff       Crime,Drama,Horror      1          1500000.0   \n",
       "1  Dan Trachtenberg     Drama,Horror,Mystery      1          5000000.0   \n",
       "2     Timothy Hines                    Drama      1         12000000.0   \n",
       "3   Nicolai Fuglsig     Action,Drama,History      1         35000000.0   \n",
       "4     Steve McQueen  Biography,Drama,History      1         20000000.0   \n",
       "\n",
       "   domestic_gross  worldwide_gross  ...  Family  Fantasy  History  Horror  \\\n",
       "0             0.0              0.0  ...       0        0        0       1   \n",
       "1      72082999.0      108286422.0  ...       0        0        0       1   \n",
       "2         14616.0          14616.0  ...       0        0        0       0   \n",
       "3      45819713.0       71118378.0  ...       0        0        1       0   \n",
       "4      56671993.0      181025343.0  ...       0        0        1       0   \n",
       "\n",
       "   Music  Mystery  Romance  Sci-Fi  Sport  Thriller  \n",
       "0      0        0        0       0      0         0  \n",
       "1      0        1        0       0      0         0  \n",
       "2      0        0        0       0      0         0  \n",
       "3      0        0        0       0      0         0  \n",
       "4      0        0        0       0      0         0  \n",
       "\n",
       "[5 rows x 30 columns]"
      ]
     },
     "execution_count": 11,
     "metadata": {},
     "output_type": "execute_result"
    }
   ],
   "source": [
    "df3.head()"
   ]
  },
  {
   "attachments": {},
   "cell_type": "markdown",
   "metadata": {},
   "source": [
    "#Looking into runtime and return percentage"
   ]
  },
  {
   "cell_type": "code",
   "execution_count": 12,
   "metadata": {},
   "outputs": [
    {
     "data": {
      "text/plain": [
       "count    2147.000000\n",
       "mean      103.897140\n",
       "std        18.212513\n",
       "min         5.000000\n",
       "25%        92.000000\n",
       "50%       101.000000\n",
       "75%       113.750000\n",
       "max       180.000000\n",
       "Name: runtime_minutes, dtype: float64"
      ]
     },
     "execution_count": 12,
     "metadata": {},
     "output_type": "execute_result"
    }
   ],
   "source": [
    "df3['runtime_minutes'].describe()"
   ]
  },
  {
   "cell_type": "code",
   "execution_count": 51,
   "metadata": {},
   "outputs": [
    {
     "data": {
      "text/plain": [
       "<AxesSubplot:xlabel='runtime_minutes', ylabel='Count'>"
      ]
     },
     "execution_count": 51,
     "metadata": {},
     "output_type": "execute_result"
    },
    {
     "data": {
      "image/png": "[encoded data removed]",
      "text/plain": [
       "<Figure size 432x288 with 1 Axes>"
      ]
     },
     "metadata": {
      "needs_background": "light"
     },
     "output_type": "display_data"
    }
   ],
   "source": [
    "sns.histplot(x = df3['runtime_minutes'],bins=60)\n"
   ]
  },
  {
   "cell_type": "code",
   "execution_count": 13,
   "metadata": {},
   "outputs": [
    {
     "data": {
      "text/plain": [
       "<AxesSubplot:xlabel='runtime_minutes', ylabel='Count'>"
      ]
     },
     "execution_count": 13,
     "metadata": {},
     "output_type": "execute_result"
    },
    {
     "data": {
      "image/png": "[encoded data removed]",
      "text/plain": [
       "<Figure size 432x288 with 1 Axes>"
      ]
     },
     "metadata": {
      "needs_background": "light"
     },
     "output_type": "display_data"
    }
   ],
   "source": [
    "# looking at run time distribution\n",
    "sns.histplot(x = df3['runtime_minutes'],bins=60)"
   ]
  },
  {
   "cell_type": "code",
   "execution_count": 14,
   "metadata": {},
   "outputs": [
    {
     "data": {
      "text/plain": [
       "<AxesSubplot:xlabel='runtime_minutes', ylabel='return_perc_v2'>"
      ]
     },
     "execution_count": 14,
     "metadata": {},
     "output_type": "execute_result"
    },
    {
     "data": {
      "image/png": "[encoded data removed]",
      "text/plain": [
       "<Figure size 432x288 with 1 Axes>"
      ]
     },
     "metadata": {
      "needs_background": "light"
     },
     "output_type": "display_data"
    }
   ],
   "source": [
    "# looking to see a relationship bewteen run time and return percentage, scatterplot, linear regression...\n",
    "sns.scatterplot(x='runtime_minutes', y= 'return_perc_v2', data = df3 )"
   ]
  },
  {
   "cell_type": "code",
   "execution_count": 53,
   "metadata": {},
   "outputs": [
    {
     "data": {
      "text/plain": [
       "<AxesSubplot:xlabel='runtime_minutes', ylabel='return_perc_v2'>"
      ]
     },
     "execution_count": 53,
     "metadata": {},
     "output_type": "execute_result"
    },
    {
     "data": {
      "image/png": "[encoded data removed]",
      "text/plain": [
       "<Figure size 432x288 with 1 Axes>"
      ]
     },
     "metadata": {
      "needs_background": "light"
     },
     "output_type": "display_data"
    }
   ],
   "source": [
    "sns.regplot(x='runtime_minutes', y= 'return_perc_v2', data = df3)"
   ]
  },
  {
   "cell_type": "code",
   "execution_count": 15,
   "metadata": {},
   "outputs": [
    {
     "data": {
      "text/plain": [
       "array([[ 1.       , -0.0267629],\n",
       "       [-0.0267629,  1.       ]])"
      ]
     },
     "execution_count": 15,
     "metadata": {},
     "output_type": "execute_result"
    }
   ],
   "source": [
    "np.corrcoef(df3['runtime_minutes'],df3['return_perc_v2'])"
   ]
  },
  {
   "attachments": {},
   "cell_type": "markdown",
   "metadata": {},
   "source": [
    "Binning movie lengths from 0 to 180 minutes, 10 min as the interval."
   ]
  },
  {
   "cell_type": "code",
   "execution_count": 18,
   "metadata": {},
   "outputs": [],
   "source": [
    "# Create a new column to store the movie length ranges\n",
    "df3['movie_length_range'] = ''\n",
    "\n",
    "# Define the movie length ranges\n",
    "ranges = [(0, 10), (10, 20), (20, 30), (30, 40), (40, 50), (50, 60), \n",
    "          (60, 70), (70, 80), (80, 90), (90, 100), (100, 110), (110, 120), \n",
    "          (120, 130), (130, 140), (140, 150), (150, 160), (160, 170), (170, 180)]\n",
    "\n",
    "# Iterate over the movie lengths and assign the appropriate range to the new column\n",
    "for i, length in enumerate(df3['runtime_minutes']):\n",
    "    for r in ranges:\n",
    "        if r[0] <= length < r[1]:\n",
    "            df3.loc[i, 'movie_length_range'] = f'{r[0]}_{r[1]}'\n",
    "            break"
   ]
  },
  {
   "cell_type": "code",
   "execution_count": 19,
   "metadata": {},
   "outputs": [
    {
     "data": {
      "text/html": [
       "<div>\n",
       "<style scoped>\n",
       "    .dataframe tbody tr th:only-of-type {\n",
       "        vertical-align: middle;\n",
       "    }\n",
       "\n",
       "    .dataframe tbody tr th {\n",
       "        vertical-align: top;\n",
       "    }\n",
       "\n",
       "    .dataframe thead th {\n",
       "        text-align: right;\n",
       "    }\n",
       "</style>\n",
       "<table border=\"1\" class=\"dataframe\">\n",
       "  <thead>\n",
       "    <tr style=\"text-align: right;\">\n",
       "      <th></th>\n",
       "      <th>primary_title</th>\n",
       "      <th>averagerating</th>\n",
       "      <th>numvotes</th>\n",
       "      <th>runtime_minutes</th>\n",
       "      <th>primary_name</th>\n",
       "      <th>genres</th>\n",
       "      <th>count</th>\n",
       "      <th>production_budget</th>\n",
       "      <th>domestic_gross</th>\n",
       "      <th>worldwide_gross</th>\n",
       "      <th>...</th>\n",
       "      <th>Fantasy</th>\n",
       "      <th>History</th>\n",
       "      <th>Horror</th>\n",
       "      <th>Music</th>\n",
       "      <th>Mystery</th>\n",
       "      <th>Romance</th>\n",
       "      <th>Sci-Fi</th>\n",
       "      <th>Sport</th>\n",
       "      <th>Thriller</th>\n",
       "      <th>movie_length_range</th>\n",
       "    </tr>\n",
       "  </thead>\n",
       "  <tbody>\n",
       "    <tr>\n",
       "      <th>0</th>\n",
       "      <td>#Horror</td>\n",
       "      <td>3.0</td>\n",
       "      <td>3092.0</td>\n",
       "      <td>101.0</td>\n",
       "      <td>Tara Subkoff</td>\n",
       "      <td>Crime,Drama,Horror</td>\n",
       "      <td>1</td>\n",
       "      <td>1500000.0</td>\n",
       "      <td>0.0</td>\n",
       "      <td>0.0</td>\n",
       "      <td>...</td>\n",
       "      <td>0</td>\n",
       "      <td>0</td>\n",
       "      <td>1</td>\n",
       "      <td>0</td>\n",
       "      <td>0</td>\n",
       "      <td>0</td>\n",
       "      <td>0</td>\n",
       "      <td>0</td>\n",
       "      <td>0</td>\n",
       "      <td>100_110</td>\n",
       "    </tr>\n",
       "    <tr>\n",
       "      <th>1</th>\n",
       "      <td>10 Cloverfield Lane</td>\n",
       "      <td>7.2</td>\n",
       "      <td>260383.0</td>\n",
       "      <td>103.0</td>\n",
       "      <td>Dan Trachtenberg</td>\n",
       "      <td>Drama,Horror,Mystery</td>\n",
       "      <td>1</td>\n",
       "      <td>5000000.0</td>\n",
       "      <td>72082999.0</td>\n",
       "      <td>108286422.0</td>\n",
       "      <td>...</td>\n",
       "      <td>0</td>\n",
       "      <td>0</td>\n",
       "      <td>1</td>\n",
       "      <td>0</td>\n",
       "      <td>1</td>\n",
       "      <td>0</td>\n",
       "      <td>0</td>\n",
       "      <td>0</td>\n",
       "      <td>0</td>\n",
       "      <td>100_110</td>\n",
       "    </tr>\n",
       "    <tr>\n",
       "      <th>2</th>\n",
       "      <td>10 Days in a Madhouse</td>\n",
       "      <td>6.7</td>\n",
       "      <td>1114.0</td>\n",
       "      <td>111.0</td>\n",
       "      <td>Timothy Hines</td>\n",
       "      <td>Drama</td>\n",
       "      <td>1</td>\n",
       "      <td>12000000.0</td>\n",
       "      <td>14616.0</td>\n",
       "      <td>14616.0</td>\n",
       "      <td>...</td>\n",
       "      <td>0</td>\n",
       "      <td>0</td>\n",
       "      <td>0</td>\n",
       "      <td>0</td>\n",
       "      <td>0</td>\n",
       "      <td>0</td>\n",
       "      <td>0</td>\n",
       "      <td>0</td>\n",
       "      <td>0</td>\n",
       "      <td>110_120</td>\n",
       "    </tr>\n",
       "    <tr>\n",
       "      <th>3</th>\n",
       "      <td>12 Strong</td>\n",
       "      <td>6.6</td>\n",
       "      <td>50155.0</td>\n",
       "      <td>130.0</td>\n",
       "      <td>Nicolai Fuglsig</td>\n",
       "      <td>Action,Drama,History</td>\n",
       "      <td>1</td>\n",
       "      <td>35000000.0</td>\n",
       "      <td>45819713.0</td>\n",
       "      <td>71118378.0</td>\n",
       "      <td>...</td>\n",
       "      <td>0</td>\n",
       "      <td>1</td>\n",
       "      <td>0</td>\n",
       "      <td>0</td>\n",
       "      <td>0</td>\n",
       "      <td>0</td>\n",
       "      <td>0</td>\n",
       "      <td>0</td>\n",
       "      <td>0</td>\n",
       "      <td>130_140</td>\n",
       "    </tr>\n",
       "    <tr>\n",
       "      <th>4</th>\n",
       "      <td>12 Years a Slave</td>\n",
       "      <td>8.1</td>\n",
       "      <td>577301.0</td>\n",
       "      <td>134.0</td>\n",
       "      <td>Steve McQueen</td>\n",
       "      <td>Biography,Drama,History</td>\n",
       "      <td>1</td>\n",
       "      <td>20000000.0</td>\n",
       "      <td>56671993.0</td>\n",
       "      <td>181025343.0</td>\n",
       "      <td>...</td>\n",
       "      <td>0</td>\n",
       "      <td>1</td>\n",
       "      <td>0</td>\n",
       "      <td>0</td>\n",
       "      <td>0</td>\n",
       "      <td>0</td>\n",
       "      <td>0</td>\n",
       "      <td>0</td>\n",
       "      <td>0</td>\n",
       "      <td>130_140</td>\n",
       "    </tr>\n",
       "  </tbody>\n",
       "</table>\n",
       "<p>5 rows × 31 columns</p>\n",
       "</div>"
      ],
      "text/plain": [
       "           primary_title  averagerating  numvotes  runtime_minutes  \\\n",
       "0                #Horror            3.0    3092.0            101.0   \n",
       "1    10 Cloverfield Lane            7.2  260383.0            103.0   \n",
       "2  10 Days in a Madhouse            6.7    1114.0            111.0   \n",
       "3              12 Strong            6.6   50155.0            130.0   \n",
       "4       12 Years a Slave            8.1  577301.0            134.0   \n",
       "\n",
       "       primary_name                   genres  count  production_budget  \\\n",
       "0      Tara Subkoff       Crime,Drama,Horror      1          1500000.0   \n",
       "1  Dan Trachtenberg     Drama,Horror,Mystery      1          5000000.0   \n",
       "2     Timothy Hines                    Drama      1         12000000.0   \n",
       "3   Nicolai Fuglsig     Action,Drama,History      1         35000000.0   \n",
       "4     Steve McQueen  Biography,Drama,History      1         20000000.0   \n",
       "\n",
       "   domestic_gross  worldwide_gross  ...  Fantasy  History  Horror  Music  \\\n",
       "0             0.0              0.0  ...        0        0       1      0   \n",
       "1      72082999.0      108286422.0  ...        0        0       1      0   \n",
       "2         14616.0          14616.0  ...        0        0       0      0   \n",
       "3      45819713.0       71118378.0  ...        0        1       0      0   \n",
       "4      56671993.0      181025343.0  ...        0        1       0      0   \n",
       "\n",
       "   Mystery  Romance  Sci-Fi  Sport  Thriller  movie_length_range  \n",
       "0        0        0       0      0         0             100_110  \n",
       "1        1        0       0      0         0             100_110  \n",
       "2        0        0       0      0         0             110_120  \n",
       "3        0        0       0      0         0             130_140  \n",
       "4        0        0       0      0         0             130_140  \n",
       "\n",
       "[5 rows x 31 columns]"
      ]
     },
     "execution_count": 19,
     "metadata": {},
     "output_type": "execute_result"
    }
   ],
   "source": [
    "df3.head()"
   ]
  },
  {
   "cell_type": "code",
   "execution_count": 20,
   "metadata": {},
   "outputs": [
    {
     "data": {
      "text/plain": [
       "90_100     567\n",
       "100_110    502\n",
       "110_120    318\n",
       "80_90      300\n",
       "120_130    175\n",
       "130_140    105\n",
       "70_80       57\n",
       "140_150     44\n",
       "150_160     21\n",
       "60_70       19\n",
       "160_170     18\n",
       "50_60        9\n",
       "40_50        6\n",
       "170_180      4\n",
       "0_10         1\n",
       "             1\n",
       "Name: movie_length_range, dtype: int64"
      ]
     },
     "execution_count": 20,
     "metadata": {},
     "output_type": "execute_result"
    }
   ],
   "source": [
    "df3['movie_length_range'].value_counts()"
   ]
  },
  {
   "cell_type": "code",
   "execution_count": 29,
   "metadata": {},
   "outputs": [
    {
     "data": {
      "text/plain": [
       "movie_length_range\n",
       "150_160     0.621691\n",
       "60_70       0.814937\n",
       "170_180     1.259047\n",
       "0_10        1.698677\n",
       "90_100      1.803671\n",
       "110_120     1.824540\n",
       "100_110     2.056958\n",
       "40_50       2.496858\n",
       "120_130     2.571524\n",
       "140_150     2.693561\n",
       "            2.898704\n",
       "70_80       3.008662\n",
       "80_90       4.334686\n",
       "130_140     4.735438\n",
       "160_170     6.353472\n",
       "50_60      36.697040\n",
       "Name: return_perc_v2, dtype: float64"
      ]
     },
     "execution_count": 29,
     "metadata": {},
     "output_type": "execute_result"
    }
   ],
   "source": [
    "df3.groupby('movie_length_range')['return_perc_v2'].mean().sort_values()"
   ]
  },
  {
   "cell_type": "code",
   "execution_count": 24,
   "metadata": {},
   "outputs": [
    {
     "data": {
      "text/plain": [
       "movie_length_range\n",
       "60_70     -0.418832\n",
       "170_180   -0.043866\n",
       "80_90     -0.005740\n",
       "70_80      0.175320\n",
       "90_100     0.259347\n",
       "150_160    0.318634\n",
       "110_120    0.729853\n",
       "100_110    0.835556\n",
       "40_50      1.346313\n",
       "120_130    1.358951\n",
       "130_140    1.577748\n",
       "0_10       1.698677\n",
       "140_150    2.118000\n",
       "50_60      2.229761\n",
       "           2.898704\n",
       "160_170    3.750068\n",
       "Name: return_perc_v2, dtype: float64"
      ]
     },
     "execution_count": 24,
     "metadata": {},
     "output_type": "execute_result"
    }
   ],
   "source": [
    "df3.groupby('movie_length_range')['return_perc_v2'].median().sort_values()"
   ]
  },
  {
   "cell_type": "code",
   "execution_count": 25,
   "metadata": {},
   "outputs": [
    {
     "data": {
      "text/plain": [
       "(array([820., 105., 867., 175.,  75.,  44.,  40.,   9.,  10.,   2.]),\n",
       " array([ 0. ,  1.5,  3. ,  4.5,  6. ,  7.5,  9. , 10.5, 12. , 13.5, 15. ]),\n",
       " <BarContainer object of 10 artists>)"
      ]
     },
     "execution_count": 25,
     "metadata": {},
     "output_type": "execute_result"
    },
    {
     "data": {
      "image/png": "[encoded data removed]",
      "text/plain": [
       "<Figure size 432x288 with 1 Axes>"
      ]
     },
     "metadata": {
      "needs_background": "light"
     },
     "output_type": "display_data"
    }
   ],
   "source": [
    "plt.hist(x=df3['movie_length_range'])"
   ]
  },
  {
   "cell_type": "code",
   "execution_count": 30,
   "metadata": {},
   "outputs": [],
   "source": [
    "df3.to_csv('df3.csv')"
   ]
  },
  {
   "cell_type": "code",
   "execution_count": null,
   "metadata": {},
   "outputs": [],
   "source": []
  }
 ],
 "metadata": {
  "kernelspec": {
   "display_name": "Python (learn-env)",
   "language": "python",
   "name": "learn-env"
  },
  "language_info": {
   "codemirror_mode": {
    "name": "ipython",
    "version": 3
   },
   "file_extension": ".py",
   "mimetype": "text/x-python",
   "name": "python",
   "nbconvert_exporter": "python",
   "pygments_lexer": "ipython3",
   "version": "3.8.5"
  },
  "orig_nbformat": 4
 },
 "nbformat": 4,
 "nbformat_minor": 2
}
