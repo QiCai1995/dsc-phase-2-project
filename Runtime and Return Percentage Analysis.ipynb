{
 "cells": [
  {
   "attachments": {},
   "cell_type": "markdown",
   "metadata": {},
   "source": [
    "# Runtime Range and Return Percentage Analysis"
   ]
  },
  {
   "attachments": {},
   "cell_type": "markdown",
   "metadata": {},
   "source": [
    "Import necessary libraries."
   ]
  },
  {
   "cell_type": "code",
   "execution_count": 1,
   "metadata": {},
   "outputs": [],
   "source": [
    "import pandas as pd\n",
    "import numpy as np\n",
    "import matplotlib.pyplot as plt\n",
    "%matplotlib inline\n",
    "import seaborn as sns\n",
    "from scipy import stats"
   ]
  },
  {
   "cell_type": "code",
   "execution_count": 2,
   "metadata": {},
   "outputs": [
    {
     "data": {
      "text/html": [
       "<div>\n",
       "<style scoped>\n",
       "    .dataframe tbody tr th:only-of-type {\n",
       "        vertical-align: middle;\n",
       "    }\n",
       "\n",
       "    .dataframe tbody tr th {\n",
       "        vertical-align: top;\n",
       "    }\n",
       "\n",
       "    .dataframe thead th {\n",
       "        text-align: right;\n",
       "    }\n",
       "</style>\n",
       "<table border=\"1\" class=\"dataframe\">\n",
       "  <thead>\n",
       "    <tr style=\"text-align: right;\">\n",
       "      <th></th>\n",
       "      <th>primary_title</th>\n",
       "      <th>averagerating</th>\n",
       "      <th>numvotes</th>\n",
       "      <th>runtime_minutes</th>\n",
       "      <th>start_year</th>\n",
       "      <th>birth_year</th>\n",
       "      <th>death_year</th>\n",
       "      <th>primary_name</th>\n",
       "      <th>genres</th>\n",
       "      <th>count</th>\n",
       "      <th>...</th>\n",
       "      <th>Fantasy</th>\n",
       "      <th>History</th>\n",
       "      <th>Horror</th>\n",
       "      <th>Music</th>\n",
       "      <th>Mystery</th>\n",
       "      <th>Romance</th>\n",
       "      <th>Sci-Fi</th>\n",
       "      <th>Sport</th>\n",
       "      <th>Thriller</th>\n",
       "      <th>time_bucket</th>\n",
       "    </tr>\n",
       "  </thead>\n",
       "  <tbody>\n",
       "    <tr>\n",
       "      <th>0</th>\n",
       "      <td>#Horror</td>\n",
       "      <td>3.0</td>\n",
       "      <td>3092.0</td>\n",
       "      <td>101.0</td>\n",
       "      <td>2015.0</td>\n",
       "      <td>1972.0</td>\n",
       "      <td>NaN</td>\n",
       "      <td>Tara Subkoff</td>\n",
       "      <td>Crime,Drama,Horror</td>\n",
       "      <td>1</td>\n",
       "      <td>...</td>\n",
       "      <td>0</td>\n",
       "      <td>0</td>\n",
       "      <td>1</td>\n",
       "      <td>0</td>\n",
       "      <td>0</td>\n",
       "      <td>0</td>\n",
       "      <td>0</td>\n",
       "      <td>0</td>\n",
       "      <td>0</td>\n",
       "      <td>91 to 105</td>\n",
       "    </tr>\n",
       "    <tr>\n",
       "      <th>1</th>\n",
       "      <td>10 Cloverfield Lane</td>\n",
       "      <td>7.2</td>\n",
       "      <td>260383.0</td>\n",
       "      <td>103.0</td>\n",
       "      <td>2016.0</td>\n",
       "      <td>NaN</td>\n",
       "      <td>NaN</td>\n",
       "      <td>Dan Trachtenberg</td>\n",
       "      <td>Drama,Horror,Mystery</td>\n",
       "      <td>1</td>\n",
       "      <td>...</td>\n",
       "      <td>0</td>\n",
       "      <td>0</td>\n",
       "      <td>1</td>\n",
       "      <td>0</td>\n",
       "      <td>1</td>\n",
       "      <td>0</td>\n",
       "      <td>0</td>\n",
       "      <td>0</td>\n",
       "      <td>0</td>\n",
       "      <td>91 to 105</td>\n",
       "    </tr>\n",
       "    <tr>\n",
       "      <th>2</th>\n",
       "      <td>10 Days in a Madhouse</td>\n",
       "      <td>6.7</td>\n",
       "      <td>1114.0</td>\n",
       "      <td>111.0</td>\n",
       "      <td>2015.0</td>\n",
       "      <td>1960.0</td>\n",
       "      <td>NaN</td>\n",
       "      <td>Timothy Hines</td>\n",
       "      <td>Drama</td>\n",
       "      <td>1</td>\n",
       "      <td>...</td>\n",
       "      <td>0</td>\n",
       "      <td>0</td>\n",
       "      <td>0</td>\n",
       "      <td>0</td>\n",
       "      <td>0</td>\n",
       "      <td>0</td>\n",
       "      <td>0</td>\n",
       "      <td>0</td>\n",
       "      <td>0</td>\n",
       "      <td>106 to 120</td>\n",
       "    </tr>\n",
       "    <tr>\n",
       "      <th>3</th>\n",
       "      <td>12 Strong</td>\n",
       "      <td>6.6</td>\n",
       "      <td>50155.0</td>\n",
       "      <td>130.0</td>\n",
       "      <td>2018.0</td>\n",
       "      <td>1972.0</td>\n",
       "      <td>NaN</td>\n",
       "      <td>Nicolai Fuglsig</td>\n",
       "      <td>Action,Drama,History</td>\n",
       "      <td>1</td>\n",
       "      <td>...</td>\n",
       "      <td>0</td>\n",
       "      <td>1</td>\n",
       "      <td>0</td>\n",
       "      <td>0</td>\n",
       "      <td>0</td>\n",
       "      <td>0</td>\n",
       "      <td>0</td>\n",
       "      <td>0</td>\n",
       "      <td>0</td>\n",
       "      <td>121 to 135</td>\n",
       "    </tr>\n",
       "    <tr>\n",
       "      <th>4</th>\n",
       "      <td>12 Years a Slave</td>\n",
       "      <td>8.1</td>\n",
       "      <td>577301.0</td>\n",
       "      <td>134.0</td>\n",
       "      <td>2013.0</td>\n",
       "      <td>1969.0</td>\n",
       "      <td>NaN</td>\n",
       "      <td>Steve McQueen</td>\n",
       "      <td>Biography,Drama,History</td>\n",
       "      <td>1</td>\n",
       "      <td>...</td>\n",
       "      <td>0</td>\n",
       "      <td>1</td>\n",
       "      <td>0</td>\n",
       "      <td>0</td>\n",
       "      <td>0</td>\n",
       "      <td>0</td>\n",
       "      <td>0</td>\n",
       "      <td>0</td>\n",
       "      <td>0</td>\n",
       "      <td>121 to 135</td>\n",
       "    </tr>\n",
       "  </tbody>\n",
       "</table>\n",
       "<p>5 rows × 34 columns</p>\n",
       "</div>"
      ],
      "text/plain": [
       "           primary_title  averagerating  numvotes  runtime_minutes  \\\n",
       "0                #Horror            3.0    3092.0            101.0   \n",
       "1    10 Cloverfield Lane            7.2  260383.0            103.0   \n",
       "2  10 Days in a Madhouse            6.7    1114.0            111.0   \n",
       "3              12 Strong            6.6   50155.0            130.0   \n",
       "4       12 Years a Slave            8.1  577301.0            134.0   \n",
       "\n",
       "   start_year  birth_year  death_year      primary_name  \\\n",
       "0      2015.0      1972.0         NaN      Tara Subkoff   \n",
       "1      2016.0         NaN         NaN  Dan Trachtenberg   \n",
       "2      2015.0      1960.0         NaN     Timothy Hines   \n",
       "3      2018.0      1972.0         NaN   Nicolai Fuglsig   \n",
       "4      2013.0      1969.0         NaN     Steve McQueen   \n",
       "\n",
       "                    genres  count  ...  Fantasy  History  Horror  Music  \\\n",
       "0       Crime,Drama,Horror      1  ...        0        0       1      0   \n",
       "1     Drama,Horror,Mystery      1  ...        0        0       1      0   \n",
       "2                    Drama      1  ...        0        0       0      0   \n",
       "3     Action,Drama,History      1  ...        0        1       0      0   \n",
       "4  Biography,Drama,History      1  ...        0        1       0      0   \n",
       "\n",
       "   Mystery  Romance  Sci-Fi  Sport  Thriller  time_bucket  \n",
       "0        0        0       0      0         0    91 to 105  \n",
       "1        1        0       0      0         0    91 to 105  \n",
       "2        0        0       0      0         0   106 to 120  \n",
       "3        0        0       0      0         0   121 to 135  \n",
       "4        0        0       0      0         0   121 to 135  \n",
       "\n",
       "[5 rows x 34 columns]"
      ]
     },
     "execution_count": 2,
     "metadata": {},
     "output_type": "execute_result"
    }
   ],
   "source": [
    "df3 = pd.read_csv(\"Data_created/QiDataFile.csv\")\n",
    "df3.head()"
   ]
  },
  {
   "cell_type": "code",
   "execution_count": 3,
   "metadata": {},
   "outputs": [],
   "source": [
    "df3 = df3.drop(columns='time_bucket')"
   ]
  },
  {
   "cell_type": "code",
   "execution_count": 4,
   "metadata": {},
   "outputs": [
    {
     "name": "stdout",
     "output_type": "stream",
     "text": [
      "<class 'pandas.core.frame.DataFrame'>\n",
      "RangeIndex: 2147 entries, 0 to 2146\n",
      "Data columns (total 33 columns):\n",
      " #   Column             Non-Null Count  Dtype  \n",
      "---  ------             --------------  -----  \n",
      " 0   primary_title      2147 non-null   object \n",
      " 1   averagerating      2147 non-null   float64\n",
      " 2   numvotes           2147 non-null   float64\n",
      " 3   runtime_minutes    2147 non-null   float64\n",
      " 4   start_year         2147 non-null   float64\n",
      " 5   birth_year         1462 non-null   float64\n",
      " 6   death_year         23 non-null     float64\n",
      " 7   primary_name       2147 non-null   object \n",
      " 8   genres             2147 non-null   object \n",
      " 9   count              2147 non-null   int64  \n",
      " 10  production_budget  2147 non-null   float64\n",
      " 11  domestic_gross     2147 non-null   float64\n",
      " 12  worldwide_gross    2147 non-null   float64\n",
      " 13  return_perc        2147 non-null   float64\n",
      " 14  return_percv2      2147 non-null   float64\n",
      " 15  Action             2147 non-null   int64  \n",
      " 16  Adventure          2147 non-null   int64  \n",
      " 17  Animation          2147 non-null   int64  \n",
      " 18  Biography          2147 non-null   int64  \n",
      " 19  Comedy             2147 non-null   int64  \n",
      " 20  Crime              2147 non-null   int64  \n",
      " 21  Documentary        2147 non-null   int64  \n",
      " 22  Drama              2147 non-null   int64  \n",
      " 23  Family             2147 non-null   int64  \n",
      " 24  Fantasy            2147 non-null   int64  \n",
      " 25  History            2147 non-null   int64  \n",
      " 26  Horror             2147 non-null   int64  \n",
      " 27  Music              2147 non-null   int64  \n",
      " 28  Mystery            2147 non-null   int64  \n",
      " 29  Romance            2147 non-null   int64  \n",
      " 30  Sci-Fi             2147 non-null   int64  \n",
      " 31  Sport              2147 non-null   int64  \n",
      " 32  Thriller           2147 non-null   int64  \n",
      "dtypes: float64(11), int64(19), object(3)\n",
      "memory usage: 553.6+ KB\n"
     ]
    }
   ],
   "source": [
    "df3.info()"
   ]
  },
  {
   "cell_type": "code",
   "execution_count": 5,
   "metadata": {},
   "outputs": [
    {
     "data": {
      "text/plain": [
       "count    2147.000000\n",
       "mean        2.641324\n",
       "std        13.568265\n",
       "min        -1.000000\n",
       "25%        -0.641474\n",
       "50%         0.709365\n",
       "75%         2.700253\n",
       "max       415.564740\n",
       "Name: return_percv2, dtype: float64"
      ]
     },
     "execution_count": 5,
     "metadata": {},
     "output_type": "execute_result"
    }
   ],
   "source": [
    "df3['return_percv2'].describe()"
   ]
  },
  {
   "attachments": {},
   "cell_type": "markdown",
   "metadata": {},
   "source": []
  },
  {
   "attachments": {},
   "cell_type": "markdown",
   "metadata": {},
   "source": [
    "# Looking into runtime and return percentage"
   ]
  },
  {
   "cell_type": "code",
   "execution_count": 6,
   "metadata": {},
   "outputs": [
    {
     "data": {
      "text/plain": [
       "count    2147.000000\n",
       "mean      103.897140\n",
       "std        18.212513\n",
       "min         5.000000\n",
       "25%        92.000000\n",
       "50%       101.000000\n",
       "75%       113.750000\n",
       "max       180.000000\n",
       "Name: runtime_minutes, dtype: float64"
      ]
     },
     "execution_count": 6,
     "metadata": {},
     "output_type": "execute_result"
    }
   ],
   "source": [
    "df3['runtime_minutes'].describe()"
   ]
  },
  {
   "cell_type": "code",
   "execution_count": 7,
   "metadata": {},
   "outputs": [
    {
     "data": {
      "text/plain": [
       "<AxesSubplot:xlabel='runtime_minutes', ylabel='Count'>"
      ]
     },
     "execution_count": 7,
     "metadata": {},
     "output_type": "execute_result"
    },
    {
     "data": {
      "image/png": "[encoded data removed]",
      "text/plain": [
       "<Figure size 432x288 with 1 Axes>"
      ]
     },
     "metadata": {
      "needs_background": "light"
     },
     "output_type": "display_data"
    }
   ],
   "source": [
    "# looking at run time distribution\n",
    "sns.histplot(x = df3['runtime_minutes'],bins=60)"
   ]
  },
  {
   "cell_type": "code",
   "execution_count": 8,
   "metadata": {},
   "outputs": [
    {
     "data": {
      "text/plain": [
       "<AxesSubplot:xlabel='runtime_minutes', ylabel='return_percv2'>"
      ]
     },
     "execution_count": 8,
     "metadata": {},
     "output_type": "execute_result"
    },
    {
     "data": {
      "image/png": "[encoded data removed]",
      "text/plain": [
       "<Figure size 432x288 with 1 Axes>"
      ]
     },
     "metadata": {
      "needs_background": "light"
     },
     "output_type": "display_data"
    }
   ],
   "source": [
    "# looking to see a relationship bewteen run time and return percentage, scatterplot, regression plot\n",
    "sns.scatterplot(x='runtime_minutes', y= 'return_percv2', data = df3 )"
   ]
  },
  {
   "cell_type": "code",
   "execution_count": 9,
   "metadata": {},
   "outputs": [
    {
     "data": {
      "text/plain": [
       "<AxesSubplot:xlabel='runtime_minutes', ylabel='return_percv2'>"
      ]
     },
     "execution_count": 9,
     "metadata": {},
     "output_type": "execute_result"
    },
    {
     "data": {
      "image/png": "[encoded data removed]",
      "text/plain": [
       "<Figure size 432x288 with 1 Axes>"
      ]
     },
     "metadata": {
      "needs_background": "light"
     },
     "output_type": "display_data"
    }
   ],
   "source": [
    "sns.regplot(x='runtime_minutes', y= 'return_percv2', data = df3)"
   ]
  },
  {
   "cell_type": "code",
   "execution_count": 10,
   "metadata": {},
   "outputs": [
    {
     "data": {
      "text/plain": [
       "array([[ 1.       , -0.0267629],\n",
       "       [-0.0267629,  1.       ]])"
      ]
     },
     "execution_count": 10,
     "metadata": {},
     "output_type": "execute_result"
    }
   ],
   "source": [
    "np.corrcoef(df3['runtime_minutes'],df3['return_percv2'])"
   ]
  },
  {
   "attachments": {},
   "cell_type": "markdown",
   "metadata": {},
   "source": [
    "There is no correlation between runtime minutes and return percentage."
   ]
  },
  {
   "attachments": {},
   "cell_type": "markdown",
   "metadata": {},
   "source": [
    "Binning movie lengths from 0 to 180 minutes, 10 min as the interval to see in what movie length range yields the best return percentage."
   ]
  },
  {
   "cell_type": "code",
   "execution_count": 11,
   "metadata": {},
   "outputs": [],
   "source": [
    "# Define the bins and labels for the time buckets\n",
    "bins = [0, 10, 20, 30, 40, 50, 60, 70, 80, 90, 100, 110, 120, 130, 140, 150, 160, 170, 180]\n",
    "labels = [f\"{i+1} to {i+10}\" for i in range(0, 170, 10)]\n",
    "\n",
    "# Use pd.cut() to assign each value in the runtime_minutes column to a time bucket\n",
    "df3['movie_length_range'] = pd.cut(df3['runtime_minutes'], bins=bins[:-1], labels=labels)"
   ]
  },
  {
   "cell_type": "code",
   "execution_count": 12,
   "metadata": {},
   "outputs": [
    {
     "data": {
      "text/plain": [
       "91 to 100     555\n",
       "101 to 110    480\n",
       "81 to 90      358\n",
       "111 to 120    304\n",
       "121 to 130    166\n",
       "131 to 140     96\n",
       "71 to 80       65\n",
       "141 to 150     43\n",
       "61 to 70       23\n",
       "151 to 160     18\n",
       "161 to 170     16\n",
       "51 to 60        9\n",
       "41 to 50        9\n",
       "1 to 10         1\n",
       "31 to 40        0\n",
       "21 to 30        0\n",
       "11 to 20        0\n",
       "Name: movie_length_range, dtype: int64"
      ]
     },
     "execution_count": 12,
     "metadata": {},
     "output_type": "execute_result"
    }
   ],
   "source": [
    "df3['movie_length_range'].value_counts()"
   ]
  },
  {
   "cell_type": "code",
   "execution_count": 13,
   "metadata": {},
   "outputs": [
    {
     "data": {
      "text/plain": [
       "movie_length_range\n",
       "151 to 160     0.981672\n",
       "61 to 70       1.318967\n",
       "1 to 10        1.698677\n",
       "111 to 120     1.796718\n",
       "91 to 100      1.940671\n",
       "101 to 110     2.141688\n",
       "41 to 50       2.363402\n",
       "141 to 150     2.431480\n",
       "121 to 130     2.574087\n",
       "71 to 80       2.668574\n",
       "81 to 90       3.705376\n",
       "131 to 140     4.951974\n",
       "161 to 170     6.947113\n",
       "51 to 60      36.442675\n",
       "11 to 20            NaN\n",
       "21 to 30            NaN\n",
       "31 to 40            NaN\n",
       "Name: return_percv2, dtype: float64"
      ]
     },
     "execution_count": 13,
     "metadata": {},
     "output_type": "execute_result"
    }
   ],
   "source": [
    "# groupby movie length ranges, sort by mean return percentage for each range.\n",
    "df3.groupby('movie_length_range')['return_percv2'].mean().sort_values()"
   ]
  },
  {
   "cell_type": "code",
   "execution_count": 14,
   "metadata": {},
   "outputs": [
    {
     "data": {
      "text/plain": [
       "movie_length_range\n",
       "81 to 90     -0.173286\n",
       "71 to 80     -0.004459\n",
       "61 to 70      0.000776\n",
       "151 to 160    0.298834\n",
       "91 to 100     0.413127\n",
       "111 to 120    0.812812\n",
       "101 to 110    0.906925\n",
       "51 to 60      1.367353\n",
       "121 to 130    1.401752\n",
       "131 to 140    1.580755\n",
       "1 to 10       1.698677\n",
       "141 to 150    2.037037\n",
       "41 to 50      2.229761\n",
       "161 to 170    3.750068\n",
       "11 to 20           NaN\n",
       "21 to 30           NaN\n",
       "31 to 40           NaN\n",
       "Name: return_percv2, dtype: float64"
      ]
     },
     "execution_count": 14,
     "metadata": {},
     "output_type": "execute_result"
    }
   ],
   "source": [
    "# groupby movie length ranges, sort by median return percentage for each range.\n",
    "df3.groupby('movie_length_range')['return_percv2'].median().sort_values()"
   ]
  },
  {
   "cell_type": "code",
   "execution_count": 15,
   "metadata": {},
   "outputs": [],
   "source": [
    "df3.to_csv('Data_created/df3.csv')"
   ]
  },
  {
   "attachments": {},
   "cell_type": "markdown",
   "metadata": {},
   "source": [
    "Open Genres by median ROI created by Sean, to make visualizations."
   ]
  },
  {
   "cell_type": "code",
   "execution_count": 16,
   "metadata": {},
   "outputs": [],
   "source": [
    "df5 = pd.read_csv('Data_created/genre_means_data.csv')"
   ]
  },
  {
   "cell_type": "code",
   "execution_count": 17,
   "metadata": {},
   "outputs": [
    {
     "data": {
      "text/html": [
       "<div>\n",
       "<style scoped>\n",
       "    .dataframe tbody tr th:only-of-type {\n",
       "        vertical-align: middle;\n",
       "    }\n",
       "\n",
       "    .dataframe tbody tr th {\n",
       "        vertical-align: top;\n",
       "    }\n",
       "\n",
       "    .dataframe thead th {\n",
       "        text-align: right;\n",
       "    }\n",
       "</style>\n",
       "<table border=\"1\" class=\"dataframe\">\n",
       "  <thead>\n",
       "    <tr style=\"text-align: right;\">\n",
       "      <th></th>\n",
       "      <th>Genre</th>\n",
       "      <th>mean_ROI</th>\n",
       "      <th>median_ROI</th>\n",
       "    </tr>\n",
       "  </thead>\n",
       "  <tbody>\n",
       "    <tr>\n",
       "      <th>0</th>\n",
       "      <td>Animation</td>\n",
       "      <td>176.281140</td>\n",
       "      <td>1.762811</td>\n",
       "    </tr>\n",
       "    <tr>\n",
       "      <th>1</th>\n",
       "      <td>Adventure</td>\n",
       "      <td>137.240837</td>\n",
       "      <td>1.372408</td>\n",
       "    </tr>\n",
       "    <tr>\n",
       "      <th>2</th>\n",
       "      <td>Sci-Fi</td>\n",
       "      <td>125.843689</td>\n",
       "      <td>1.258437</td>\n",
       "    </tr>\n",
       "    <tr>\n",
       "      <th>3</th>\n",
       "      <td>Mystery</td>\n",
       "      <td>107.574875</td>\n",
       "      <td>1.075749</td>\n",
       "    </tr>\n",
       "    <tr>\n",
       "      <th>4</th>\n",
       "      <td>Comedy</td>\n",
       "      <td>104.540803</td>\n",
       "      <td>1.045408</td>\n",
       "    </tr>\n",
       "  </tbody>\n",
       "</table>\n",
       "</div>"
      ],
      "text/plain": [
       "       Genre    mean_ROI  median_ROI\n",
       "0  Animation  176.281140    1.762811\n",
       "1  Adventure  137.240837    1.372408\n",
       "2     Sci-Fi  125.843689    1.258437\n",
       "3    Mystery  107.574875    1.075749\n",
       "4     Comedy  104.540803    1.045408"
      ]
     },
     "execution_count": 17,
     "metadata": {},
     "output_type": "execute_result"
    }
   ],
   "source": [
    "df5['median_ROI'] = df5['mean_ROI']/100\n",
    "df5.head()"
   ]
  },
  {
   "cell_type": "code",
   "execution_count": 18,
   "metadata": {},
   "outputs": [],
   "source": [
    "df5.to_csv('Data_created/genre_medianROI_data.csv')"
   ]
  },
  {
   "cell_type": "code",
   "execution_count": null,
   "metadata": {},
   "outputs": [],
   "source": []
  }
 ],
 "metadata": {
  "kernelspec": {
   "display_name": "learn-env",
   "language": "python",
   "name": "python3"
  },
  "language_info": {
   "codemirror_mode": {
    "name": "ipython",
    "version": 3
   },
   "file_extension": ".py",
   "mimetype": "text/x-python",
   "name": "python",
   "nbconvert_exporter": "python",
   "pygments_lexer": "ipython3",
   "version": "3.8.5"
  },
  "orig_nbformat": 4
 },
 "nbformat": 4,
 "nbformat_minor": 2
}
